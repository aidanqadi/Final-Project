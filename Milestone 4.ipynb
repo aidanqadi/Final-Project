{
  "cells": [
    {
      "cell_type": "markdown",
      "id": "ff912ae3",
      "metadata": {
        "id": "ff912ae3"
      },
      "source": [
        "# Online Retail — Plots **without log scales** (Aidan)\n",
        "\n",
        "This notebook recreates two analyses **on raw (non-log) axes**:\n",
        "\n",
        "1. **Top-10 SKUs by Revenue** — bar chart  \n",
        "\n",
        "2. **Unit Price vs. Quantity** — scatter plot with a **binned-average trend line**\n",
        "\n",
        "\n",
        "> **Note:** This version intentionally **does not** call `plt.xscale('log')` or `plt.yscale('log')`.\n",
        "It is ready to run with your dataset (CSV or Excel).\n"
      ]
    },
    {
      "cell_type": "code",
      "execution_count": 1,
      "id": "8c516591",
      "metadata": {
        "id": "8c516591"
      },
      "outputs": [
        {
          "name": "stderr",
          "output_type": "stream",
          "text": [
            "Matplotlib is building the font cache; this may take a moment.\n"
          ]
        }
      ],
      "source": [
        "# Imports\n",
        "import io\n",
        "import numpy as np\n",
        "import pandas as pd\n",
        "import matplotlib.pyplot as plt\n",
        "\n",
        "# For optional Colab upload\n",
        "try:\n",
        "    from google.colab import files  # type: ignore\n",
        "    IN_COLAB = True\n",
        "except Exception:\n",
        "    IN_COLAB = False\n",
        "\n",
        "pd.set_option('display.max_rows', 20)\n",
        "pd.set_option('display.max_columns', 50)\n"
      ]
    },
    {
      "cell_type": "markdown",
      "id": "370841f6",
      "metadata": {
        "id": "370841f6"
      },
      "source": [
        "## Load your data\n",
        "\n",
        "Choose one of the two options below:\n",
        "\n",
        "- **Option A (Local path):** set `DATA_PATH` to your file (CSV or XLSX).\n",
        "- **Option B (Colab upload):** leave `DATA_PATH=None` and run; you'll be prompted to upload.\n"
      ]
    },
    {
      "cell_type": "code",
      "execution_count": 2,
      "id": "fcf4367c",
      "metadata": {
        "colab": {
          "base_uri": "https://localhost:8080/",
          "height": 249
        },
        "id": "fcf4367c",
        "outputId": "d0d8081a-8d7c-40f7-8d8b-c22f6e12595b"
      },
      "outputs": [
        {
          "name": "stdout",
          "output_type": "stream",
          "text": [
            "Found online_retail_sample_10k_clean.csv in the working directory. Loading it…\n",
            "Initial shape: (9783, 9)\n"
          ]
        },
        {
          "data": {
            "text/html": [
              "<div>\n",
              "<style scoped>\n",
              "    .dataframe tbody tr th:only-of-type {\n",
              "        vertical-align: middle;\n",
              "    }\n",
              "\n",
              "    .dataframe tbody tr th {\n",
              "        vertical-align: top;\n",
              "    }\n",
              "\n",
              "    .dataframe thead th {\n",
              "        text-align: right;\n",
              "    }\n",
              "</style>\n",
              "<table border=\"1\" class=\"dataframe\">\n",
              "  <thead>\n",
              "    <tr style=\"text-align: right;\">\n",
              "      <th></th>\n",
              "      <th>InvoiceNo</th>\n",
              "      <th>StockCode</th>\n",
              "      <th>Description</th>\n",
              "      <th>Quantity</th>\n",
              "      <th>InvoiceDate</th>\n",
              "      <th>UnitPrice</th>\n",
              "      <th>CustomerID</th>\n",
              "      <th>Country</th>\n",
              "      <th>Revenue</th>\n",
              "    </tr>\n",
              "  </thead>\n",
              "  <tbody>\n",
              "    <tr>\n",
              "      <th>0</th>\n",
              "      <td>555200</td>\n",
              "      <td>71459</td>\n",
              "      <td>HANGING JAM JAR T-LIGHT HOLDER</td>\n",
              "      <td>24</td>\n",
              "      <td>2011-06-01 12:05:00</td>\n",
              "      <td>0.85</td>\n",
              "      <td>17315.0</td>\n",
              "      <td>United Kingdom</td>\n",
              "      <td>20.4</td>\n",
              "    </tr>\n",
              "    <tr>\n",
              "      <th>1</th>\n",
              "      <td>554974</td>\n",
              "      <td>21128</td>\n",
              "      <td>GOLD FISHING GNOME</td>\n",
              "      <td>4</td>\n",
              "      <td>2011-05-27 17:14:00</td>\n",
              "      <td>6.95</td>\n",
              "      <td>14031.0</td>\n",
              "      <td>United Kingdom</td>\n",
              "      <td>27.8</td>\n",
              "    </tr>\n",
              "    <tr>\n",
              "      <th>2</th>\n",
              "      <td>550972</td>\n",
              "      <td>21086</td>\n",
              "      <td>SET/6 RED SPOTTY PAPER CUPS</td>\n",
              "      <td>4</td>\n",
              "      <td>2011-04-21 17:05:00</td>\n",
              "      <td>0.65</td>\n",
              "      <td>14031.0</td>\n",
              "      <td>United Kingdom</td>\n",
              "      <td>2.6</td>\n",
              "    </tr>\n",
              "  </tbody>\n",
              "</table>\n",
              "</div>"
            ],
            "text/plain": [
              "   InvoiceNo StockCode                     Description  Quantity  \\\n",
              "0     555200     71459  HANGING JAM JAR T-LIGHT HOLDER        24   \n",
              "1     554974     21128              GOLD FISHING GNOME         4   \n",
              "2     550972     21086     SET/6 RED SPOTTY PAPER CUPS         4   \n",
              "\n",
              "           InvoiceDate  UnitPrice  CustomerID         Country  Revenue  \n",
              "0  2011-06-01 12:05:00       0.85     17315.0  United Kingdom     20.4  \n",
              "1  2011-05-27 17:14:00       6.95     14031.0  United Kingdom     27.8  \n",
              "2  2011-04-21 17:05:00       0.65     14031.0  United Kingdom      2.6  "
            ]
          },
          "execution_count": 2,
          "metadata": {},
          "output_type": "execute_result"
        }
      ],
      "source": [
        "import pandas as pd\n",
        "import io, os\n",
        "\n",
        "# Detect Colab\n",
        "try:\n",
        "    from google.colab import files  # type: ignore\n",
        "    IN_COLAB = True\n",
        "except Exception:\n",
        "    IN_COLAB = False\n",
        "\n",
        "DEFAULT_NAME = \"online_retail_sample_10k_clean.csv\"  # change if needed\n",
        "\n",
        "def _read_any(path_or_buf, filename_hint=\"\"):\n",
        "    \"\"\"Read CSV/CSV.GZ/Excel into a DataFrame.\"\"\"\n",
        "    name = (filename_hint or (str(path_or_buf) if isinstance(path_or_buf, str) else \"\"))\n",
        "    lower = name.lower()\n",
        "    if lower.endswith((\".xlsx\", \".xls\")):\n",
        "        return pd.read_excel(path_or_buf)\n",
        "    comp = \"gzip\" if lower.endswith(\".gz\") else \"infer\"\n",
        "    return pd.read_csv(path_or_buf, compression=comp, low_memory=False, encoding=\"latin1\")\n",
        "\n",
        "# ==== PROMPT & LOAD ====\n",
        "if os.path.exists(DEFAULT_NAME):\n",
        "    print(f\"Found {DEFAULT_NAME} in the working directory. Loading it…\")\n",
        "    df_raw = _read_any(DEFAULT_NAME, filename_hint=DEFAULT_NAME)\n",
        "\n",
        "elif IN_COLAB:\n",
        "    print(\"Please upload your CSV / CSV.GZ / XLSX file…\")\n",
        "    uploaded = files.upload()\n",
        "    if not uploaded:\n",
        "        raise SystemExit(\"No file uploaded.\")\n",
        "    name, data = next(iter(uploaded.items()))\n",
        "    buf = io.BytesIO(data)\n",
        "    df_raw = _read_any(buf, filename_hint=name)\n",
        "    print(f\"Loaded: {name}  -> shape={df_raw.shape}\")\n",
        "\n",
        "else:\n",
        "    # Local Jupyter: file dialog with fallback to manual path\n",
        "    path = \"\"\n",
        "    try:\n",
        "        import tkinter as tk\n",
        "        from tkinter import filedialog\n",
        "        tk.Tk().withdraw()\n",
        "        path = filedialog.askopenfilename(\n",
        "            title=\"Select CSV/CSV.GZ or Excel file\",\n",
        "            filetypes=[(\"CSV\", \"*.csv\"), (\"Compressed CSV\", \"*.csv.gz\"),\n",
        "                       (\"Excel\", \"*.xlsx *.xls\"), (\"All files\", \"*.*\")]\n",
        "        )\n",
        "    except Exception:\n",
        "        pass\n",
        "    if not path:\n",
        "        path = input(\"Enter path to your CSV/CSV.GZ or Excel file: \").strip()\n",
        "    if not path:\n",
        "        raise SystemExit(\"No file selected.\")\n",
        "    df_raw = _read_any(path, filename_hint=os.path.basename(path))\n",
        "    print(f\"Loaded: {os.path.basename(path)}  -> shape={df_raw.shape}\")\n",
        "\n",
        "print(\"Initial shape:\", df_raw.shape)\n",
        "df_raw.head(3)\n"
      ]
    },
    {
      "cell_type": "markdown",
      "id": "e69327d6",
      "metadata": {
        "id": "e69327d6"
      },
      "source": [
        "## Clean the data\n",
        "\n",
        "- Remove credit notes (InvoiceNo starting with 'C') if present  \n",
        "- Keep only positive quantities and prices  \n",
        "- Drop rows missing the SKU/StockCode\n"
      ]
    },
    {
      "cell_type": "code",
      "execution_count": 3,
      "id": "f4147182",
      "metadata": {
        "colab": {
          "base_uri": "https://localhost:8080/",
          "height": 161
        },
        "id": "f4147182",
        "outputId": "980dd334-3725-45b9-a3ad-9e7e54158f3b"
      },
      "outputs": [
        {
          "name": "stdout",
          "output_type": "stream",
          "text": [
            "(9783, 9)\n"
          ]
        },
        {
          "data": {
            "text/html": [
              "<div>\n",
              "<style scoped>\n",
              "    .dataframe tbody tr th:only-of-type {\n",
              "        vertical-align: middle;\n",
              "    }\n",
              "\n",
              "    .dataframe tbody tr th {\n",
              "        vertical-align: top;\n",
              "    }\n",
              "\n",
              "    .dataframe thead th {\n",
              "        text-align: right;\n",
              "    }\n",
              "</style>\n",
              "<table border=\"1\" class=\"dataframe\">\n",
              "  <thead>\n",
              "    <tr style=\"text-align: right;\">\n",
              "      <th></th>\n",
              "      <th>InvoiceNo</th>\n",
              "      <th>StockCode</th>\n",
              "      <th>Description</th>\n",
              "      <th>Quantity</th>\n",
              "      <th>InvoiceDate</th>\n",
              "      <th>UnitPrice</th>\n",
              "      <th>CustomerID</th>\n",
              "      <th>Country</th>\n",
              "      <th>Revenue</th>\n",
              "    </tr>\n",
              "  </thead>\n",
              "  <tbody>\n",
              "    <tr>\n",
              "      <th>0</th>\n",
              "      <td>555200</td>\n",
              "      <td>71459</td>\n",
              "      <td>HANGING JAM JAR T-LIGHT HOLDER</td>\n",
              "      <td>24</td>\n",
              "      <td>2011-06-01 12:05:00</td>\n",
              "      <td>0.85</td>\n",
              "      <td>17315.0</td>\n",
              "      <td>United Kingdom</td>\n",
              "      <td>20.4</td>\n",
              "    </tr>\n",
              "    <tr>\n",
              "      <th>1</th>\n",
              "      <td>554974</td>\n",
              "      <td>21128</td>\n",
              "      <td>GOLD FISHING GNOME</td>\n",
              "      <td>4</td>\n",
              "      <td>2011-05-27 17:14:00</td>\n",
              "      <td>6.95</td>\n",
              "      <td>14031.0</td>\n",
              "      <td>United Kingdom</td>\n",
              "      <td>27.8</td>\n",
              "    </tr>\n",
              "    <tr>\n",
              "      <th>2</th>\n",
              "      <td>550972</td>\n",
              "      <td>21086</td>\n",
              "      <td>SET/6 RED SPOTTY PAPER CUPS</td>\n",
              "      <td>4</td>\n",
              "      <td>2011-04-21 17:05:00</td>\n",
              "      <td>0.65</td>\n",
              "      <td>14031.0</td>\n",
              "      <td>United Kingdom</td>\n",
              "      <td>2.6</td>\n",
              "    </tr>\n",
              "  </tbody>\n",
              "</table>\n",
              "</div>"
            ],
            "text/plain": [
              "  InvoiceNo StockCode                     Description  Quantity  \\\n",
              "0    555200     71459  HANGING JAM JAR T-LIGHT HOLDER        24   \n",
              "1    554974     21128              GOLD FISHING GNOME         4   \n",
              "2    550972     21086     SET/6 RED SPOTTY PAPER CUPS         4   \n",
              "\n",
              "           InvoiceDate  UnitPrice  CustomerID         Country  Revenue  \n",
              "0  2011-06-01 12:05:00       0.85     17315.0  United Kingdom     20.4  \n",
              "1  2011-05-27 17:14:00       6.95     14031.0  United Kingdom     27.8  \n",
              "2  2011-04-21 17:05:00       0.65     14031.0  United Kingdom      2.6  "
            ]
          },
          "execution_count": 3,
          "metadata": {},
          "output_type": "execute_result"
        }
      ],
      "source": [
        "df = df_raw.copy()\n",
        "\n",
        "def _find_col(df, options):\n",
        "    for c in df.columns:\n",
        "        if c.lower() in [o.lower() for o in options]:\n",
        "            return c\n",
        "    return None\n",
        "\n",
        "sku_col = _find_col(df, ['StockCode', 'SKU', 'stockcode', 'sku'])\n",
        "if sku_col is None:\n",
        "    raise ValueError('Could not find a SKU column. Expected one of: StockCode, SKU')\n",
        "\n",
        "invoice_col = _find_col(df, ['InvoiceNo', 'Invoice'])\n",
        "qty_col     = _find_col(df, ['Quantity', 'Qty'])\n",
        "price_col   = _find_col(df, ['UnitPrice', 'Price'])\n",
        "if qty_col is None or price_col is None:\n",
        "    raise ValueError(\"Could not find quantity/price columns. Need 'Quantity' & 'UnitPrice' (or 'Qty'/'Price').\")\n",
        "\n",
        "if invoice_col is not None:\n",
        "    df[invoice_col] = df[invoice_col].astype(str)\n",
        "    df = df[~df[invoice_col].str.startswith('C', na=False)]\n",
        "\n",
        "df = df[(df[qty_col] > 0) & (df[price_col] > 0)]\n",
        "df = df.dropna(subset=[sku_col]).copy()\n",
        "\n",
        "df['Revenue'] = df[qty_col] * df[price_col]\n",
        "\n",
        "print(df.shape)\n",
        "df.head(3)\n"
      ]
    },
    {
      "cell_type": "markdown",
      "id": "5870b20f",
      "metadata": {
        "id": "5870b20f"
      },
      "source": [
        "## Q1 — Top-10 SKUs by Revenue (raw scale)\n",
        "\n",
        "Aggregate revenue per SKU and plot the top 10.\n"
      ]
    },
    {
      "cell_type": "code",
      "execution_count": 4,
      "id": "a3996a1d",
      "metadata": {
        "colab": {
          "base_uri": "https://localhost:8080/",
          "height": 853
        },
        "id": "a3996a1d",
        "outputId": "ac5b5610-60f9-405f-e8d3-46fb028662ed"
      },
      "outputs": [
        {
          "data": {
            "text/html": [
              "<div>\n",
              "<style scoped>\n",
              "    .dataframe tbody tr th:only-of-type {\n",
              "        vertical-align: middle;\n",
              "    }\n",
              "\n",
              "    .dataframe tbody tr th {\n",
              "        vertical-align: top;\n",
              "    }\n",
              "\n",
              "    .dataframe thead th {\n",
              "        text-align: right;\n",
              "    }\n",
              "</style>\n",
              "<table border=\"1\" class=\"dataframe\">\n",
              "  <thead>\n",
              "    <tr style=\"text-align: right;\">\n",
              "      <th></th>\n",
              "      <th>StockCode</th>\n",
              "      <th>Revenue</th>\n",
              "    </tr>\n",
              "  </thead>\n",
              "  <tbody>\n",
              "    <tr>\n",
              "      <th>241</th>\n",
              "      <td>21175</td>\n",
              "      <td>3656.13</td>\n",
              "    </tr>\n",
              "    <tr>\n",
              "      <th>2234</th>\n",
              "      <td>85099B</td>\n",
              "      <td>3055.72</td>\n",
              "    </tr>\n",
              "    <tr>\n",
              "      <th>1903</th>\n",
              "      <td>47566</td>\n",
              "      <td>2116.05</td>\n",
              "    </tr>\n",
              "    <tr>\n",
              "      <th>912</th>\n",
              "      <td>22423</td>\n",
              "      <td>1827.44</td>\n",
              "    </tr>\n",
              "    <tr>\n",
              "      <th>2236</th>\n",
              "      <td>85099F</td>\n",
              "      <td>1799.56</td>\n",
              "    </tr>\n",
              "    <tr>\n",
              "      <th>1171</th>\n",
              "      <td>22728</td>\n",
              "      <td>1732.46</td>\n",
              "    </tr>\n",
              "    <tr>\n",
              "      <th>798</th>\n",
              "      <td>22273</td>\n",
              "      <td>1706.15</td>\n",
              "    </tr>\n",
              "    <tr>\n",
              "      <th>685</th>\n",
              "      <td>22112</td>\n",
              "      <td>1513.86</td>\n",
              "    </tr>\n",
              "    <tr>\n",
              "      <th>2242</th>\n",
              "      <td>85123A</td>\n",
              "      <td>1195.10</td>\n",
              "    </tr>\n",
              "    <tr>\n",
              "      <th>1173</th>\n",
              "      <td>22730</td>\n",
              "      <td>1125.87</td>\n",
              "    </tr>\n",
              "  </tbody>\n",
              "</table>\n",
              "</div>"
            ],
            "text/plain": [
              "     StockCode  Revenue\n",
              "241      21175  3656.13\n",
              "2234    85099B  3055.72\n",
              "1903     47566  2116.05\n",
              "912      22423  1827.44\n",
              "2236    85099F  1799.56\n",
              "1171     22728  1732.46\n",
              "798      22273  1706.15\n",
              "685      22112  1513.86\n",
              "2242    85123A  1195.10\n",
              "1173     22730  1125.87"
            ]
          },
          "metadata": {},
          "output_type": "display_data"
        },
        {
          "data": {
            "image/png": "[encoded data removed]",
            "text/plain": [
              "<Figure size 1000x500 with 1 Axes>"
            ]
          },
          "metadata": {},
          "output_type": "display_data"
        }
      ],
      "source": [
        "topn = 10\n",
        "revenue_by_sku = (\n",
        "    df.groupby(sku_col, as_index=False)['Revenue']\n",
        "      .sum()\n",
        "      .sort_values('Revenue', ascending=False)\n",
        "      .head(topn)\n",
        ")\n",
        "\n",
        "display(revenue_by_sku)\n",
        "\n",
        "plt.figure(figsize=(10, 5))\n",
        "plt.bar(revenue_by_sku[sku_col].astype(str), revenue_by_sku['Revenue'])\n",
        "plt.title('Top-10 SKUs by Revenue — Aidan')\n",
        "plt.xlabel('SKU')\n",
        "plt.ylabel('Revenue (raw scale)')\n",
        "plt.xticks(rotation=45, ha='right')\n",
        "plt.tight_layout()\n",
        "plt.show()\n"
      ]
    },
    {
      "cell_type": "markdown",
      "id": "bf23e394",
      "metadata": {
        "id": "bf23e394"
      },
      "source": [
        "## Q2 — Unit Price vs Quantity (raw axes)\n",
        "\n",
        "Scatter individual line-items (**no log scales**) and overlay a **binned-average** line to show the typical quantity sold at similar price levels.\n"
      ]
    },
    {
      "cell_type": "code",
      "execution_count": 6,
      "id": "d51ce5c9",
      "metadata": {
        "colab": {
          "base_uri": "https://localhost:8080/",
          "height": 1000
        },
        "id": "d51ce5c9",
        "outputId": "ceeef567-99f8-4731-8196-fb77a6d6f8a9"
      },
      "outputs": [
        {
          "name": "stdout",
          "output_type": "stream",
          "text": [
            "Points plotted: 9630\n"
          ]
        },
        {
          "data": {
            "image/png": "[encoded data removed]",
            "text/plain": [
              "<Figure size 640x480 with 1 Axes>"
            ]
          },
          "metadata": {},
          "output_type": "display_data"
        }
      ],
      "source": [
        "# Scatter: UnitPrice vs Quantity (clip extreme outliers to see the pattern)\n",
        "req = {\"UnitPrice\",\"Quantity\"}\n",
        "if not req.issubset(df.columns):\n",
        "    raise ValueError(f\"Missing columns: {req - set(df.columns)}\")\n",
        "\n",
        "tmp = df[(df[\"UnitPrice\"] > 0) & (df[\"Quantity\"] > 0)].copy()\n",
        "\n",
        "# Clip extreme tails (99th percentile) for readability\n",
        "q_price = tmp[\"UnitPrice\"].quantile(0.99)\n",
        "q_qty = tmp[\"Quantity\"].quantile(0.99)\n",
        "tmp = tmp[(tmp[\"UnitPrice\"] <= q_price) & (tmp[\"Quantity\"] <= q_qty)]\n",
        "\n",
        "print(\"Points plotted:\", len(tmp))\n",
        "\n",
        "fig, ax = plt.subplots()\n",
        "ax.scatter(tmp[\"UnitPrice\"], tmp[\"Quantity\"], alpha=0.3, s=10)\n",
        "ax.set_title(\"Unit Price vs Quantity Sold — Aidan\")\n",
        "ax.set_xlabel(\"Unit Price\")\n",
        "ax.set_ylabel(\"Quantity\")\n",
        "plt.tight_layout()\n",
        "plt.show()\n",
        "\n",
        "\n"
      ]
    },
    {
      "cell_type": "markdown",
      "id": "95790cf2",
      "metadata": {
        "id": "95790cf2"
      },
      "source": [
        "### Interpretation (raw-scale view)\n",
        "\n",
        "- The scatter shows **actual units** for both price and quantity.\n",
        "- The **binned-average line** smooths noise to show typical quantities at similar price levels.\n",
        "- Correlations are reported on raw data (no logs).\n",
        "- If elasticity is needed, a separate log–log analysis is recommended; this notebook intentionally avoids logs per your request.\n"
      ]
    }
  ],
  "metadata": {
    "colab": {
      "provenance": []
    },
    "kernelspec": {
      "display_name": "base",
      "language": "python",
      "name": "python3"
    },
    "language_info": {
      "codemirror_mode": {
        "name": "ipython",
        "version": 3
      },
      "file_extension": ".py",
      "mimetype": "text/x-python",
      "name": "python",
      "nbconvert_exporter": "python",
      "pygments_lexer": "ipython3",
      "version": "3.13.5"
    }
  },
  "nbformat": 4,
  "nbformat_minor": 5
}
